{
 "cells": [
  {
   "cell_type": "code",
   "execution_count": 6,
   "id": "50ec3d7f-7c50-49a7-8b4c-5a2bfd7190bd",
   "metadata": {},
   "outputs": [
    {
     "name": "stdout",
     "output_type": "stream",
     "text": [
      "Predicted Price Per Night: $145.31\n"
     ]
    }
   ],
   "source": [
    "import joblib\n",
    "import pandas as pd\n",
    "\n",
    "# Load the saved model & column structure\n",
    "model = joblib.load('hotel_price_predictor.pkl')\n",
    "model_columns = joblib.load('model_columns.pkl')\n",
    "\n",
    "# Prepare your input data (Example data given)\n",
    "new_data = pd.DataFrame({  \n",
    "    'RoomCategory': ['Family'],\n",
    "    'LocationGroup': ['Downtown'],\n",
    "    'DistanceFromCenter': [2.5],\n",
    "    'RatingBucket': ['Excellent'],\n",
    "    'DiscountBucket': ['High'],\n",
    "    'OriginalPrice': [1000]  \n",
    "})\n",
    "\n",
    "\n",
    "encoded_data = pd.get_dummies(new_data)\n",
    "encoded_data = encoded_data.reindex(columns=model_columns, fill_value=0)\n",
    "\n",
    "# Predict\n",
    "predicted_price = model.predict(encoded_data)\n",
    "print(f\"Predicted Price Per Night: ${predicted_price[0]:.2f}\")\n"
   ]
  },
  {
   "cell_type": "code",
   "execution_count": null,
   "id": "0e18fb0a-c0da-4c88-8ee6-291a76318824",
   "metadata": {},
   "outputs": [],
   "source": []
  }
 ],
 "metadata": {
  "kernelspec": {
   "display_name": "Python [conda env:base] *",
   "language": "python",
   "name": "conda-base-py"
  },
  "language_info": {
   "codemirror_mode": {
    "name": "ipython",
    "version": 3
   },
   "file_extension": ".py",
   "mimetype": "text/x-python",
   "name": "python",
   "nbconvert_exporter": "python",
   "pygments_lexer": "ipython3",
   "version": "3.12.7"
  }
 },
 "nbformat": 4,
 "nbformat_minor": 5
}
